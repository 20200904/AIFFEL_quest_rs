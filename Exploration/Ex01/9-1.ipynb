{
 "cells": [
  {
   "cell_type": "markdown",
   "id": "406e5a97",
   "metadata": {},
   "source": [
    "#### (1) 데이터 가져오기\n",
    "---\n",
    "* sklearn.datasets의 load_diabetes에서 데이터를 가져와주세요.\n",
    "* diabetes의 data를 df_X에, target을 df_y에 저장해주세요.\n"
   ]
  },
  {
   "cell_type": "code",
   "execution_count": 1,
   "id": "70ed9124",
   "metadata": {},
   "outputs": [],
   "source": [
    "from sklearn.datasets import load_diabetes\n",
    "\n",
    "diabetes = load_diabetes()\n",
    "\n",
    "df_X = diabetes.data\n",
    "df_y = diabetes.target\n"
   ]
  },
  {
   "cell_type": "markdown",
   "id": "4797ccfc",
   "metadata": {},
   "source": [
    "#### (2) 모델에 입력할 데이터 X 준비하기\n",
    "---\n",
    "* df_X에 있는 값들을 numpy array로 변환해서 저장해주세요.\n"
   ]
  },
  {
   "cell_type": "code",
   "execution_count": 2,
   "id": "b0c4aa36",
   "metadata": {},
   "outputs": [],
   "source": [
    "import numpy as np\n",
    "\n",
    "df_X = np.array(df_X)\n"
   ]
  },
  {
   "cell_type": "markdown",
   "id": "e7e8bd7d",
   "metadata": {},
   "source": [
    "#### (3) 모델에 예측할 데이터 y 준비하기\n",
    "---\n",
    "* df_y에 있는 값들을 numpy array로 변환해서 저장해주세요.\n"
   ]
  },
  {
   "cell_type": "code",
   "execution_count": 3,
   "id": "cca305de",
   "metadata": {},
   "outputs": [],
   "source": [
    "df_y = np.array(df_y)\n"
   ]
  },
  {
   "cell_type": "markdown",
   "id": "ee59df23",
   "metadata": {},
   "source": [
    "#### (4) train 데이터와 test 데이터로 분리하기\n",
    "---\n",
    "* X와 y 데이터를 각각 train 데이터와 test 데이터로 분리해주세요.\n"
   ]
  },
  {
   "cell_type": "code",
   "execution_count": 4,
   "id": "e1c4e5b2",
   "metadata": {},
   "outputs": [
    {
     "name": "stdout",
     "output_type": "stream",
     "text": [
      "(353, 10) (353,)\n",
      "(89, 10) (89,)\n"
     ]
    }
   ],
   "source": [
    "from sklearn.model_selection import train_test_split\n",
    "\n",
    "X_train, X_test, y_train, y_test = train_test_split(df_X, df_y, test_size = 0.2, random_state = 42)\n",
    "\n",
    "print(X_train.shape, y_train.shape)\n",
    "print(X_test.shape, y_test.shape)"
   ]
  },
  {
   "cell_type": "markdown",
   "id": "0bf591bd",
   "metadata": {},
   "source": [
    "#### (5) 모델 준비하기\n",
    "---\n",
    "* 입력 데이터 개수에 맞는 가중치 W와 b를 준비해주세요.\n",
    "*모델 함수를 구현해주세요.\n"
   ]
  },
  {
   "cell_type": "code",
   "execution_count": 5,
   "id": "0f285546",
   "metadata": {},
   "outputs": [],
   "source": [
    "W = np.random.rand(10)\n",
    "b = np.random.rand()\n",
    "\n",
    "def model(X, W, b):\n",
    "    predictions = 0\n",
    "    for i in range(10):\n",
    "        predictions += W[i] * X[:, i] \n",
    "    predictions += b\n",
    "    return predictions"
   ]
  },
  {
   "cell_type": "markdown",
   "id": "cc2e1648",
   "metadata": {},
   "source": [
    "#### (6) 손실함수 loss 정의하기\n",
    "---\n",
    "* 손실함수를 MSE 함수로 정의해주세요.\n"
   ]
  },
  {
   "cell_type": "code",
   "execution_count": 6,
   "id": "04989ad0",
   "metadata": {},
   "outputs": [],
   "source": [
    "def loss(X, y, W, b):\n",
    "    predictions = model(X, W, b)\n",
    "    mse = ((predictions - y) ** 2).mean()\n",
    "    return mse"
   ]
  },
  {
   "cell_type": "markdown",
   "id": "9543ed83",
   "metadata": {},
   "source": [
    "#### (7) 기울기를 구하는 gradient 함수 구현하기\n",
    "---\n",
    "* 기울기를 계산하는 gradient 함수를 구현해주세요.\n"
   ]
  },
  {
   "cell_type": "code",
   "execution_count": 7,
   "id": "1fd3ccaf",
   "metadata": {},
   "outputs": [],
   "source": [
    "def gradient(X, y, W, b):\n",
    "    N = len(y)\n",
    "    y_pred = model(X, W, b)\n",
    "    dW = 1/N * 2 * X.T.dot(y_pred - y)\n",
    "    db = 2 * (y_pred - y).mean()\n",
    "    return dW, db"
   ]
  },
  {
   "cell_type": "markdown",
   "id": "cc25b8cc",
   "metadata": {},
   "source": [
    "#### (8) 하이퍼 파라미터인 학습률 설정하기\n",
    "---\n",
    "* 학습률, learning rate 를 설정해주세요\n",
    "* 만약 학습이 잘 되지 않는다면 learning rate 값을 한번 여러 가지로 설정하며 실험해 보세요.\n"
   ]
  },
  {
   "cell_type": "code",
   "execution_count": 16,
   "id": "901263b3",
   "metadata": {},
   "outputs": [],
   "source": [
    "LEARNING_RATE = 0.5# 0.0001"
   ]
  },
  {
   "cell_type": "markdown",
   "id": "c72c07c6",
   "metadata": {},
   "source": [
    "#### (9) 모델 학습하기\n",
    "---\n",
    "* 정의된 손실함수와 기울기 함수로 모델을 학습해주세요.\n",
    "* loss값이 충분히 떨어질 때까지 학습을 진행해주세요.\n",
    "* 입력하는 데이터인 X에 들어가는 특성 컬럼들을 몇 개 빼도 괜찮습니다. 다양한 데이터로 실험해 보세요.\n"
   ]
  },
  {
   "cell_type": "code",
   "execution_count": 17,
   "id": "94f0418c",
   "metadata": {},
   "outputs": [
    {
     "name": "stdout",
     "output_type": "stream",
     "text": [
      "Iterataion 10 : Loss 3840.1224\n",
      "Iterataion 20 : Loss 3770.2247\n",
      "Iterataion 30 : Loss 3707.8623\n",
      "Iterataion 40 : Loss 3651.9873\n",
      "Iterataion 50 : Loss 3601.7149\n",
      "Iterataion 60 : Loss 3556.2970\n",
      "Iterataion 70 : Loss 3515.1004\n",
      "Iterataion 80 : Loss 3477.5876\n",
      "Iterataion 90 : Loss 3443.3023\n",
      "Iterataion 100 : Loss 3411.8556\n",
      "Iterataion 110 : Loss 3382.9156\n",
      "Iterataion 120 : Loss 3356.1986\n",
      "Iterataion 130 : Loss 3331.4609\n",
      "Iterataion 140 : Loss 3308.4930\n",
      "Iterataion 150 : Loss 3287.1140\n",
      "Iterataion 160 : Loss 3267.1676\n",
      "Iterataion 170 : Loss 3248.5177\n",
      "Iterataion 180 : Loss 3231.0457\n",
      "Iterataion 190 : Loss 3214.6479\n",
      "Iterataion 200 : Loss 3199.2331\n",
      "Iterataion 210 : Loss 3184.7210\n",
      "Iterataion 220 : Loss 3171.0405\n",
      "Iterataion 230 : Loss 3158.1282\n",
      "Iterataion 240 : Loss 3145.9276\n",
      "Iterataion 250 : Loss 3134.3880\n",
      "Iterataion 260 : Loss 3123.4640\n",
      "Iterataion 270 : Loss 3113.1142\n",
      "Iterataion 280 : Loss 3103.3013\n",
      "Iterataion 290 : Loss 3093.9914\n",
      "Iterataion 300 : Loss 3085.1533\n",
      "Iterataion 310 : Loss 3076.7585\n",
      "Iterataion 320 : Loss 3068.7809\n",
      "Iterataion 330 : Loss 3061.1963\n",
      "Iterataion 340 : Loss 3053.9823\n",
      "Iterataion 350 : Loss 3047.1182\n",
      "Iterataion 360 : Loss 3040.5848\n",
      "Iterataion 370 : Loss 3034.3642\n",
      "Iterataion 380 : Loss 3028.4395\n",
      "Iterataion 390 : Loss 3022.7951\n",
      "Iterataion 400 : Loss 3017.4164\n",
      "Iterataion 410 : Loss 3012.2895\n",
      "Iterataion 420 : Loss 3007.4016\n",
      "Iterataion 430 : Loss 3002.7405\n",
      "Iterataion 440 : Loss 2998.2948\n",
      "Iterataion 450 : Loss 2994.0536\n",
      "Iterataion 460 : Loss 2990.0067\n",
      "Iterataion 470 : Loss 2986.1446\n",
      "Iterataion 480 : Loss 2982.4581\n",
      "Iterataion 490 : Loss 2978.9387\n",
      "Iterataion 500 : Loss 2975.5781\n",
      "Iterataion 510 : Loss 2972.3687\n",
      "Iterataion 520 : Loss 2969.3033\n",
      "Iterataion 530 : Loss 2966.3748\n",
      "Iterataion 540 : Loss 2963.5767\n",
      "Iterataion 550 : Loss 2960.9028\n",
      "Iterataion 560 : Loss 2958.3473\n",
      "Iterataion 570 : Loss 2955.9043\n",
      "Iterataion 580 : Loss 2953.5688\n",
      "Iterataion 590 : Loss 2951.3355\n",
      "Iterataion 600 : Loss 2949.1998\n",
      "Iterataion 610 : Loss 2947.1570\n",
      "Iterataion 620 : Loss 2945.2028\n",
      "Iterataion 630 : Loss 2943.3331\n",
      "Iterataion 640 : Loss 2941.5440\n",
      "Iterataion 650 : Loss 2939.8317\n",
      "Iterataion 660 : Loss 2938.1927\n",
      "Iterataion 670 : Loss 2936.6236\n",
      "Iterataion 680 : Loss 2935.1213\n",
      "Iterataion 690 : Loss 2933.6826\n",
      "Iterataion 700 : Loss 2932.3046\n",
      "Iterataion 710 : Loss 2930.9847\n",
      "Iterataion 720 : Loss 2929.7202\n",
      "Iterataion 730 : Loss 2928.5085\n",
      "Iterataion 740 : Loss 2927.3472\n",
      "Iterataion 750 : Loss 2926.2342\n",
      "Iterataion 760 : Loss 2925.1672\n",
      "Iterataion 770 : Loss 2924.1442\n",
      "Iterataion 780 : Loss 2923.1632\n",
      "Iterataion 790 : Loss 2922.2224\n",
      "Iterataion 800 : Loss 2921.3199\n",
      "Iterataion 810 : Loss 2920.4540\n",
      "Iterataion 820 : Loss 2919.6232\n",
      "Iterataion 830 : Loss 2918.8259\n",
      "Iterataion 840 : Loss 2918.0606\n",
      "Iterataion 850 : Loss 2917.3259\n",
      "Iterataion 860 : Loss 2916.6205\n",
      "Iterataion 870 : Loss 2915.9431\n",
      "Iterataion 880 : Loss 2915.2925\n",
      "Iterataion 890 : Loss 2914.6676\n",
      "Iterataion 900 : Loss 2914.0671\n",
      "Iterataion 910 : Loss 2913.4901\n",
      "Iterataion 920 : Loss 2912.9356\n",
      "Iterataion 930 : Loss 2912.4025\n",
      "Iterataion 940 : Loss 2911.8900\n",
      "Iterataion 950 : Loss 2911.3972\n",
      "Iterataion 960 : Loss 2910.9233\n",
      "Iterataion 970 : Loss 2910.4674\n",
      "Iterataion 980 : Loss 2910.0288\n",
      "Iterataion 990 : Loss 2909.6068\n",
      "Iterataion 1000 : Loss 2909.2007\n"
     ]
    },
    {
     "data": {
      "image/png": "[encoded data removed]",
      "text/plain": [
       "<Figure size 432x288 with 1 Axes>"
      ]
     },
     "metadata": {
      "needs_background": "light"
     },
     "output_type": "display_data"
    }
   ],
   "source": [
    "losses = []\n",
    "for i in range(1, 1001):\n",
    "    dW, db = gradient(X_train, y_train, W, b)\n",
    "    W -= LEARNING_RATE * dW\n",
    "    b -= LEARNING_RATE * db\n",
    "    L = loss(X_train, y_train, W, b)\n",
    "    losses.append(L)\n",
    "    if i % 10 == 0:\n",
    "        print('Iterataion %d : Loss %0.4f' % (i, L))\n",
    "\n",
    "from IPython.display import display, Image\n",
    "import matplotlib.pyplot as plt\n",
    "plt.plot(losses)\n",
    "plt.show()"
   ]
  },
  {
   "cell_type": "markdown",
   "id": "ef3c381d",
   "metadata": {},
   "source": [
    "#### (10) test 데이터에 대한 성능 확인하기\n",
    "---\n",
    "* test 데이터에 대한 성능을 확인해주세요.\n"
   ]
  },
  {
   "cell_type": "code",
   "execution_count": 18,
   "id": "48ac465c",
   "metadata": {},
   "outputs": [
    {
     "data": {
      "text/plain": [
       "(array([141.93213304, 178.07409939, 141.15215509, 290.4101576 ,\n",
       "        123.90225883,  97.48725465, 253.14091692, 190.87407378,\n",
       "         87.3691957 , 114.57995538,  95.95935258, 155.99857323,\n",
       "         65.8509593 , 208.57609353, 104.39958601, 135.25205122,\n",
       "        223.17021837, 246.41639307, 194.62368243, 213.43079809,\n",
       "        202.03096734,  88.8876964 ,  75.74461278, 188.40686261,\n",
       "        154.63280137, 164.16559217, 188.15778017, 176.27289508,\n",
       "         51.54502287, 115.78305668, 180.11180696,  93.93712054,\n",
       "        132.82665536, 181.65127181, 172.97444393, 189.82819104,\n",
       "        126.06483223, 122.44474952, 151.33957003,  61.05142388,\n",
       "         80.56386832, 111.24575226, 159.13969795, 152.63243004,\n",
       "        174.05230893,  65.73769825,  82.2083249 , 106.14974094,\n",
       "         61.27089631, 155.89711351, 153.85252267,  65.71922573,\n",
       "        116.13013277, 109.48794978, 169.12086215, 155.88256869,\n",
       "         97.93292477, 203.87719297, 115.63198787,  68.82371024,\n",
       "        183.28898032, 197.26738936, 141.60272871, 110.50870377,\n",
       "        126.22468279, 198.18202   , 167.82785845, 160.18942614,\n",
       "        113.7636836 , 140.04760098, 178.53298192, 195.35841968,\n",
       "        238.72278348, 142.02507881,  82.78383625, 150.44496844,\n",
       "        195.35484888, 200.88517001, 159.47000574, 194.91387199,\n",
       "        115.92549602, 131.95500144,  54.76495601,  59.72970353,\n",
       "        112.75836685,  88.24285882,  78.82825899,  63.80860611,\n",
       "        159.20878156]),\n",
       " 2868.9694726928724)"
      ]
     },
     "execution_count": 18,
     "metadata": {},
     "output_type": "execute_result"
    }
   ],
   "source": [
    "prediction = model(X_test, W, b)\n",
    "mse = loss(X_test, y_test, W, b)\n",
    "prediction, mse"
   ]
  },
  {
   "cell_type": "markdown",
   "id": "02479901",
   "metadata": {},
   "source": [
    "#### (11) 정답 데이터와 예측한 데이터 시각화하기\n",
    "---\n",
    "* x축에는 X 데이터의 첫 번째 컬럼을, y축에는 정답인 target 데이터를 넣어서 모델이 예측한 데이터를 시각화해 주세요.\n"
   ]
  },
  {
   "cell_type": "code",
   "execution_count": 19,
   "id": "2eb7e8b4",
   "metadata": {},
   "outputs": [
    {
     "data": {
      "image/png": "[encoded data removed]",
      "text/plain": [
       "<Figure size 432x288 with 1 Axes>"
      ]
     },
     "metadata": {
      "needs_background": "light"
     },
     "output_type": "display_data"
    }
   ],
   "source": [
    "plt.scatter(X_test[:, 0], y_test)\n",
    "plt.scatter(X_test[:, 0], prediction)\n",
    "plt.show()"
   ]
  }
 ],
 "metadata": {
  "kernelspec": {
   "display_name": "Python 3 (ipykernel)",
   "language": "python",
   "name": "python3"
  },
  "language_info": {
   "codemirror_mode": {
    "name": "ipython",
    "version": 3
   },
   "file_extension": ".py",
   "mimetype": "text/x-python",
   "name": "python",
   "nbconvert_exporter": "python",
   "pygments_lexer": "ipython3",
   "version": "3.9.7"
  }
 },
 "nbformat": 4,
 "nbformat_minor": 5
}
